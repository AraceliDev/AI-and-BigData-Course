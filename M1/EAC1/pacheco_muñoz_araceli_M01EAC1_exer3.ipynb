{
  "cells": [
    {
      "cell_type": "markdown",
      "metadata": {
        "colab_type": "text",
        "id": "view-in-github"
      },
      "source": [
        "<a href=\"https://colab.research.google.com/github/AraceliDev/AI-and-BigData-Course/blob/main/pacheco_mu%C3%B1oz_araceli_M01EAC1_exer3.ipynb\" target=\"_parent\"><img src=\"https://colab.research.google.com/assets/colab-badge.svg\" alt=\"Open In Colab\"/></a>"
      ]
    },
    {
      "cell_type": "markdown",
      "metadata": {
        "id": "reri1ySE6i_2"
      },
      "source": [
        "# Utilitzant MaxSAT amb PySAT\n",
        "\n"
      ]
    },
    {
      "cell_type": "markdown",
      "metadata": {
        "id": "4P1d3LYT6uBa"
      },
      "source": [
        "## Instal·lació de PySAT i les seves dependències"
      ]
    },
    {
      "cell_type": "code",
      "execution_count": 50,
      "metadata": {
        "colab": {
          "base_uri": "https://localhost:8080/"
        },
        "id": "TjVL7JMh6g5U",
        "outputId": "fe6b7342-181a-4ac3-98fa-a92fef3b7579"
      },
      "outputs": [
        {
          "name": "stdout",
          "output_type": "stream",
          "text": [
            "Requirement already satisfied: python-sat in /usr/local/lib/python3.12/dist-packages (1.8.dev23)\n",
            "Requirement already satisfied: six in /usr/local/lib/python3.12/dist-packages (from python-sat) (1.17.0)\n"
          ]
        }
      ],
      "source": [
        "!pip install python-sat"
      ]
    },
    {
      "cell_type": "markdown",
      "metadata": {
        "id": "Am8xD1DA61s0"
      },
      "source": [
        "## Importacions"
      ]
    },
    {
      "cell_type": "code",
      "execution_count": 51,
      "metadata": {
        "id": "QOfCAohZ64aq"
      },
      "outputs": [],
      "source": [
        "from pysat.examples.rc2 import RC2\n",
        "from pysat.formula import WCNF"
      ]
    },
    {
      "cell_type": "markdown",
      "metadata": {
        "id": "9Chec9CO69og"
      },
      "source": [
        "## Definició problema MaxSat"
      ]
    },
    {
      "cell_type": "markdown",
      "metadata": {
        "id": "uOlFf1fm4560"
      },
      "source": [
        "## Problema d'optimització\n",
        "Tens tres variables booleanes x1, x2 i x3.\n",
        "\n",
        "1.   El conjunt de restriccions dures és el següent:\n",
        "- Almenys una de les variables ha de ser certa.\n",
        "- No poden ser certes totes tres alhora.\n",
        "\n",
        "2.   A més, tens un conjunt de preferències (clàusules suaus):\n",
        "\n",
        "- Preferim que x1 sigui certa.\n",
        "- Preferim que x2 sigui certa.\n",
        "- Preferim que x3 sigui certa.\n",
        "\n",
        "**Objectiu**\n",
        "Modela aquest problema com un MaxSAT amb PySAT i fes servir el motor RC2 per trobar una assignació que satisfaci les restriccions dures i maximitzi el nombre de preferències completes."
      ]
    },
    {
      "cell_type": "markdown",
      "metadata": {
        "id": "I7VO-Fp-7C9f"
      },
      "source": [
        "### CNF\n",
        "\n",
        "Representació del problema amb tres variables booleanes:\n",
        "x1, x2 i x3"
      ]
    },
    {
      "cell_type": "code",
      "execution_count": 52,
      "metadata": {
        "colab": {
          "base_uri": "https://localhost:8080/"
        },
        "id": "-_BgUkgO7Gl5",
        "outputId": "21a54ec8-b35a-4a1e-d9df-49ccff270112"
      },
      "outputs": [
        {
          "name": "stdout",
          "output_type": "stream",
          "text": [
            "Formula MaxSat creada correctament\n",
            "- Total de clàusules dures: 2\n",
            "- Total de clàusules suaus: 3\n"
          ]
        }
      ],
      "source": [
        "def obtenir_formula():\n",
        "\n",
        "  formula = WCNF()\n",
        "  # clàusules dures\n",
        "  formula.append([1,2,3])\n",
        "  formula.append([-1,-2,-3])\n",
        "  # clàusules suaus (afegir pes per a cada preferència)\n",
        "  formula.append([1], 1)\n",
        "  formula.append([2], 1)\n",
        "  formula.append([3], 1)\n",
        "\n",
        "  return formula\n",
        "\n",
        "formula = obtenir_formula()\n",
        "print(\"Formula MaxSat creada correctament\")\n",
        "print(f\"- Total de clàusules dures: {len([c for c in formula.hard])}\")\n",
        "print(f\"- Total de clàusules suaus: {len([c for c in formula.soft])}\")\n"
      ]
    },
    {
      "cell_type": "markdown",
      "metadata": {
        "id": "nGXnRJG_9Xzn"
      },
      "source": [
        "### Interpretació del model\n",
        "\n",
        "Converteix la sortida numèrica del solucionador SAT en valors booleans"
      ]
    },
    {
      "cell_type": "code",
      "execution_count": null,
      "metadata": {
        "id": "Rp3StSqS9cGP"
      },
      "outputs": [],
      "source": [
        "def interpretar_modelo(model):\n",
        "  # comprova si el element és positiva\n",
        "  x1 = model[0] > 0 #si x1 és positiva, x1 = true\n",
        "  x2 = model[1] > 0\n",
        "  x3 = model[2] > 0\n",
        "\n",
        "  return x1,x2,x3"
      ]
    },
    {
      "cell_type": "markdown",
      "metadata": {
        "id": "a-WJsoFP9zW1"
      },
      "source": [
        "\n",
        "### Imprimir solució"
      ]
    },
    {
      "cell_type": "code",
      "execution_count": 54,
      "metadata": {
        "id": "20Mg-Smn92Gn"
      },
      "outputs": [],
      "source": [
        "def imprimir_solucio(x1,x2,x3,cost):\n",
        "  print(\"=\" * 50)\n",
        "  print(\"             Solució óptima trobada\")\n",
        "  print(\"=\" * 50)\n",
        "  print(f\" x1 = {x1}\")\n",
        "  print(f\" x2 = {x2}\")\n",
        "  print(f\" x3 = {x3}\")\n",
        "  print()\n",
        "  # Desar total preferències complides\n",
        "  preferencies_complides = sum([x1,x2,x3])\n",
        "  print(f\"Preferències complides: {preferencies_complides} de 3\")\n",
        "  print(f\"Coste de la solució: {cost}\")\n",
        "  print(\"Verificació de les restriccions\")\n",
        "  almenys_una = x1 or x2 or x3\n",
        "  no_totes = not (x1 and x2 and x3)\n",
        "  print(f\"Almenys una és certa: {almenys_una}\")\n",
        "  print(f\"No totes són certes: {no_totes}\")\n",
        "  print(\"=\" * 50)"
      ]
    },
    {
      "cell_type": "markdown",
      "metadata": {
        "id": "u6lR7szW_pBN"
      },
      "source": [
        "### Resoldre problema amb motor RC2"
      ]
    },
    {
      "cell_type": "code",
      "execution_count": 55,
      "metadata": {
        "colab": {
          "base_uri": "https://localhost:8080/"
        },
        "id": "wCnbpWnn_svN",
        "outputId": "c0934730-4d3c-40d8-c1a3-e4aa07ce8cdc"
      },
      "outputs": [
        {
          "name": "stdout",
          "output_type": "stream",
          "text": [
            "Solució model trobada:  [1, -2, 3] \n",
            "Cost:  1\n",
            "==================================================\n",
            "             Solució óptima trobada\n",
            "==================================================\n",
            " x1 = True\n",
            " x2 = False\n",
            " x3 = True\n",
            "\n",
            "Preferències complides: 2 de 3\n",
            "Coste de la solució: 1\n",
            "Verificació de les restriccions\n",
            "Almenys una és certa: True\n",
            "No totes són certes: True\n",
            "==================================================\n"
          ]
        }
      ],
      "source": [
        "def resoldre_maxsat(formula):\n",
        "  # inicialitzar el solucionador RC2\n",
        "  solver = RC2(formula)\n",
        "  # obté la solució òptima\n",
        "  model = solver.compute()\n",
        "\n",
        "  # verificar s'hi ha solució òptima trobada\n",
        "  if model:\n",
        "    print(\"Solució model trobada: \",model,\"\\nCost: \", solver.cost)\n",
        "    return model, solver.cost\n",
        "  else:\n",
        "     return None, None\n",
        "\n",
        "\n",
        "model, cost = resoldre_maxsat(formula)\n",
        "\n",
        "if model:\n",
        "  #convertir nums del model en true/false\n",
        "  x1,x2,x3 = interpretar_modelo(model)\n",
        "  imprimir_solucio(x1,x2,x3,cost)\n",
        "else:\n",
        "  print(\"X no se trobo solucio\")\n"
      ]
    },
    {
      "cell_type": "markdown",
      "metadata": {
        "id": "-Xjb3KQ0ATJB"
      },
      "source": [
        "### Exploració de totes les solucions òptimes\n",
        "\n",
        "resoldre_maxsat: mostra ràpidament que hi ha una solució òptima\n",
        "\n",
        "enumerar_solucions: mostra les diferents solucions òptimes que hi ha"
      ]
    },
    {
      "cell_type": "code",
      "execution_count": 56,
      "metadata": {
        "colab": {
          "base_uri": "https://localhost:8080/"
        },
        "id": "72v4XIZlCxcR",
        "outputId": "5b966350-db97-403a-b8c5-7cbd8fe9dbc9"
      },
      "outputs": [
        {
          "name": "stdout",
          "output_type": "stream",
          "text": [
            "==================================================\n",
            "        Exploració de solucions òptimes\n",
            "==================================================\n",
            "Solució 1: x1=True, x2=False, x3=True\n",
            "Solució 2: x1=True, x2=True, x3=False\n",
            "Solució 3: x1=False, x2=True, x3=True\n",
            "Solució 4: x1=False, x2=True, x3=False\n",
            "Solució 5: x1=False, x2=False, x3=True\n",
            "Solució 6: x1=True, x2=False, x3=False\n",
            "\n",
            "Total solucions òptimes:  6\n"
          ]
        }
      ],
      "source": [
        "def enumerar_solucions(formula):\n",
        "  solver=RC2(formula)\n",
        "  solucions= []\n",
        "  print(\"=\" * 50)\n",
        "  print(\"        Exploració de solucions òptimes\")\n",
        "  print(\"=\" * 50)\n",
        "  # enumerar totes les solucions amb el mateix coste òptim, en canvi amb resoldre_maxsat només retorna una solució, la primera que troba\n",
        "  for i, model in enumerate(solver.enumerate(),1):\n",
        "    x1,x2,x3 = interpretar_modelo(model)\n",
        "    solucions.append((x1,x2,x3))\n",
        "    print(f\"Solució {i}: x1={x1}, x2={x2}, x3={x3}\")\n",
        "  print()\n",
        "  print(f\"Total solucions òptimes:  {len(solucions)}\")\n",
        "  return solucions\n",
        "\n",
        "solucions = enumerar_solucions(obtenir_formula())"
      ]
    }
  ],
  "metadata": {
    "colab": {
      "authorship_tag": "ABX9TyNjWWVd7759xAUJAyCzXm0E",
      "include_colab_link": true,
      "provenance": []
    },
    "kernelspec": {
      "display_name": "Python 3",
      "name": "python3"
    },
    "language_info": {
      "name": "python"
    }
  },
  "nbformat": 4,
  "nbformat_minor": 0
}
