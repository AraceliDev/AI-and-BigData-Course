{
  "nbformat": 4,
  "nbformat_minor": 0,
  "metadata": {
    "colab": {
      "provenance": [],
      "authorship_tag": "ABX9TyNDF/7lbgbsnBOpHYnhX9k/",
      "include_colab_link": true
    },
    "kernelspec": {
      "name": "python3",
      "display_name": "Python 3"
    },
    "language_info": {
      "name": "python"
    }
  },
  "cells": [
    {
      "cell_type": "markdown",
      "metadata": {
        "id": "view-in-github",
        "colab_type": "text"
      },
      "source": [
        "<a href=\"https://colab.research.google.com/github/AraceliDev/my-gooogle-colab/blob/main/laberinto_con_algoritmo__Aestella.ipynb\" target=\"_parent\"><img src=\"https://colab.research.google.com/assets/colab-badge.svg\" alt=\"Open In Colab\"/></a>"
      ]
    },
    {
      "cell_type": "markdown",
      "source": [
        "# LABERINTO -> Algoritmo A*\n"
      ],
      "metadata": {
        "id": "AIGds92ifoD4"
      }
    },
    {
      "cell_type": "markdown",
      "source": [
        "## Problema\n",
        "Laberinto (10x10)\n",
        "- Objetivo: ir de un punto inicial a un punto final\n",
        "- Direcciones: abajo, arriba, derecha e izquierda\n",
        "- Limitaciones: algunas celdas pueden estar bloqueadas"
      ],
      "metadata": {
        "id": "FUsHKWncf_xO"
      }
    },
    {
      "cell_type": "markdown",
      "source": [
        "*texto en cursiva*## Algoritmo A*\n",
        "\n",
        "*   *g(n)* -> coste real acumulado, distancia desde el nodo inicial hasta la posición actual.\n",
        "*   *h(n)* ->  coste estimado desde el nodo actual hasta el nodo objetivo.\n",
        "*   ***f(n) = g(n) + h(n)*** -> coste total estimado (recorrido avanzado y estimación de recorrido pendiente, priozando caminos más eficientes)\n",
        "*    *h(n)* = *|x_final -x_n| + |y_final -y_n|* -> Distancia de Manhattan (suma posición horizontal y vertical)\n"
      ],
      "metadata": {
        "id": "_bweczvtgjac"
      }
    },
    {
      "cell_type": "markdown",
      "source": [
        "## Importaciones"
      ],
      "metadata": {
        "id": "e0vushc-jcwx"
      }
    },
    {
      "cell_type": "code",
      "source": [
        "import heapq\n",
        "import numpy as np\n",
        "import matplotlib.pyplot as plt"
      ],
      "metadata": {
        "id": "nrLQZW6Rf2Lf"
      },
      "execution_count": 9,
      "outputs": []
    },
    {
      "cell_type": "markdown",
      "source": [
        "## Laberinto\n",
        "0 = camino libre\n",
        "1 = pared\n",
        "2 = camino por donde pasa"
      ],
      "metadata": {
        "id": "AR5vv9sljxoP"
      }
    },
    {
      "cell_type": "code",
      "source": [
        "laberinto = np.array([\n",
        "    [0, 0, 0, 0, 0, 0, 0, 0, 0, 0],\n",
        "    [0, 1, 1, 1, 1, 0, 1, 1, 1, 0],\n",
        "    [0, 1, 0, 0, 1, 0, 1, 0, 0, 0],\n",
        "    [0, 1, 0, 1, 1, 0, 1, 0, 1, 1],\n",
        "    [0, 1, 0, 0, 0, 0, 0, 0, 0, 0],\n",
        "    [0, 1, 1, 1, 1, 1, 1, 1, 1, 0],\n",
        "    [0, 0, 0, 0, 0, 0, 0, 0, 1, 0],\n",
        "    [0, 1, 1, 1, 1, 1, 1, 0, 1, 0],\n",
        "    [0, 0, 0, 0, 0, 0, 1, 0, 1, 0],\n",
        "    [0, 1, 1, 1, 1, 0, 0, 0, 0, 0]\n",
        "])\n",
        "salida = (0,0)\n",
        "destino = (9,9)"
      ],
      "metadata": {
        "id": "2zKixdYnkDDQ"
      },
      "execution_count": 8,
      "outputs": []
    },
    {
      "cell_type": "code",
      "source": [
        "# imprimir laberinto\n",
        "print('  ', end='')\n",
        "for j in range(laberinto.shape[1]):\n",
        "    print(f'{j} ', end='')\n",
        "print()\n",
        "for i, fila in enumerate(laberinto):\n",
        "    print(f'{i} ', end='')\n",
        "    print(' '.join(map(str, fila)))"
      ],
      "metadata": {
        "colab": {
          "base_uri": "https://localhost:8080/"
        },
        "id": "Pk3ITEG6kb9W",
        "outputId": "b934a314-5546-4d51-8556-080418d909ff"
      },
      "execution_count": 10,
      "outputs": [
        {
          "output_type": "stream",
          "name": "stdout",
          "text": [
            "  0 1 2 3 4 5 6 7 8 9 \n",
            "0 0 0 0 0 0 0 0 0 0 0\n",
            "1 0 1 1 1 1 0 1 1 1 0\n",
            "2 0 1 0 0 1 0 1 0 0 0\n",
            "3 0 1 0 1 1 0 1 0 1 1\n",
            "4 0 1 0 0 0 0 0 0 0 0\n",
            "5 0 1 1 1 1 1 1 1 1 0\n",
            "6 0 0 0 0 0 0 0 0 1 0\n",
            "7 0 1 1 1 1 1 1 0 1 0\n",
            "8 0 0 0 0 0 0 1 0 1 0\n",
            "9 0 1 1 1 1 0 0 0 0 0\n"
          ]
        }
      ]
    },
    {
      "cell_type": "markdown",
      "source": [
        "## Declaración funciones: heuristica y celdas vecinas"
      ],
      "metadata": {
        "id": "g4VWaYaxtqX3"
      }
    },
    {
      "cell_type": "code",
      "source": [
        "# calcular distancia de Manhattan\n",
        "def distanciaManhattan(a,b):\n",
        "    return abs(a[0] - b[0]) + abs(a[1] - b[1])\n",
        "# generación de \"vecinos\" desde una pos\n",
        "def get_celda_vecina(pos):\n",
        "    # direcciones posibles (derecha, abajo, izquierda, arriba)\n",
        "    direcciones = [(0,1), (1,0), (0,-1), (-1,0)]\n",
        "    for dx, dy in direcciones:\n",
        "      # revisar cada una de las posiciones colindantes\n",
        "      celda_vecina = (pos[0] + dx, pos[1] + dy)\n",
        "      # print(\"celda vecina \", celda_vecina)\n",
        "      # verificar que esta pos no salga del laberinto\n",
        "      if 0 <= celda_vecina[0] < laberinto.shape[0] and 0 <= celda_vecina[1] < laberinto.shape[1]:\n",
        "      # verificar si esta libre\n",
        "       if laberinto[celda_vecina] == 0:\n",
        "        # devuelve la posición válida\n",
        "        # print(\"celda valida: \", celda_vecina)\n",
        "        yield celda_vecina"
      ],
      "metadata": {
        "id": "INAg8_yytxes"
      },
      "execution_count": 11,
      "outputs": []
    },
    {
      "cell_type": "markdown",
      "source": [
        "## Primeras comprobaciones"
      ],
      "metadata": {
        "id": "-VdPLtdq_tB1"
      }
    },
    {
      "cell_type": "code",
      "source": [
        "# print(f\"Valor en posición: {laberinto[3,5]}\")\n",
        "print(\"=== Probando distancia Manhattan ===\")\n",
        "punto_a = (1, 0)\n",
        "punto_b = (9, 9)\n",
        "distancia = distanciaManhattan(punto_a, punto_b)\n",
        "print(f\"Distancia de {punto_a} a {punto_b}: {distancia}\")\n",
        "\n",
        "print(\"\\n=== Probando vecinos ===\")\n",
        "posicion_prueba = (4, 5)\n",
        "vecinos = list(get_celda_vecina(posicion_prueba))\n",
        "print(f\"Vecinos válidos de {posicion_prueba}: {vecinos}\")"
      ],
      "metadata": {
        "colab": {
          "base_uri": "https://localhost:8080/"
        },
        "id": "YtEFiC3K4XVf",
        "outputId": "85cc303b-54f4-4ead-bcae-9792d255629b"
      },
      "execution_count": 12,
      "outputs": [
        {
          "output_type": "stream",
          "name": "stdout",
          "text": [
            "=== Probando distancia Manhattan ===\n",
            "Distancia de (1, 0) a (9, 9): 17\n",
            "\n",
            "=== Probando vecinos ===\n",
            "Vecinos válidos de (4, 5): [(4, 6), (4, 4), (3, 5)]\n"
          ]
        }
      ]
    },
    {
      "cell_type": "markdown",
      "source": [
        "# Algoritmo A *"
      ],
      "metadata": {
        "id": "kGOVtih6Agme"
      }
    },
    {
      "cell_type": "markdown",
      "source": [
        "### Declarar funcion a_estrella\n",
        "Variables:\n",
        "*   nodos_por_visitar: Cola de prioridad, nodos pendientes ordenados por menor costo total\n",
        "*   anterior: Diccionario, celda → celda_anterior (para reconstruir el camino)\n",
        "*   coste_real: Diccionario, celda → pasos_reales_desde_salida\n",
        "*   coste_total: pasos_reales + estimación_restante (para priorizar)"
      ],
      "metadata": {
        "id": "J85LhiWVAvO8"
      }
    },
    {
      "cell_type": "code",
      "source": [
        "def a_estrella(salida, destino, laberinto):\n",
        "    nodos_por_visitar = [] # nodos que voy a ir visitando para encontrar mejor camino\n",
        "    #declarar la cola con info del coste de cada celda\n",
        "    heapq.heappush(nodos_por_visitar, (0, salida))\n",
        "    anterior = {} #diccionario que guarda para cada nodo su predecesor. Para guardar el camino desde inicio a fin\n",
        "    coste_real = {salida: 0}  #diccionario que guarda costo real, pasos dados\n",
        "\n",
        "    while nodos_por_visitar:\n",
        "        _, celda_actual = heapq.heappop(nodos_por_visitar) # nodo con menor costo\n",
        "        # print(\"Celda actual ---> \",celda_actual)\n",
        "        #si celda_actual = a destino entra aqui\n",
        "        if celda_actual == destino:\n",
        "            camino = []\n",
        "            #busca en biblioteca anterior la celda actual y actualiza valor de celda actual a la celda anterior a celda actual\n",
        "            while celda_actual in anterior:\n",
        "                camino.append(celda_actual)\n",
        "                celda_actual = anterior[celda_actual]\n",
        "            #cuando llega (0,0) al no estar en anterior\n",
        "            camino.append(salida)\n",
        "            camino.reverse()\n",
        "            return camino\n",
        "        #celda_actual genera vecinos validos para celda actual\n",
        "        for celda_vecina in get_celda_vecina(celda_actual):\n",
        "          #añade coste real a celda vecina desde celda actual\n",
        "            tentativa_g = coste_real[celda_actual] + 1\n",
        "            # print(\"  celda vecina valida: \", celda_vecina)\n",
        "            #si celda vecina no se ha visitado antes o ya la visite pero el valor de visitarla es menor ahora desde celda actual\n",
        "            if celda_vecina not in coste_real or tentativa_g < coste_real[celda_vecina]:\n",
        "                #guardo el trayecto\n",
        "                anterior[celda_vecina] = celda_actual\n",
        "                #guardo el coste real de esta celda desde celda actual\n",
        "                coste_real[celda_vecina] = tentativa_g\n",
        "                #calculo coste total mediante distancia de manhattan\n",
        "                coste_total  = tentativa_g + distanciaManhattan(celda_vecina, destino)\n",
        "                # print(\"  COSTE TOTAL  \", coste_total, \"celda vecina \", celda_vecina)\n",
        "                #guardo valor de coste total y la celda vecina correspondiente\n",
        "                heapq.heappush(nodos_por_visitar, (coste_total , celda_vecina))\n",
        "                # print(\"  final iteracción del bucle for: nodos por visitar son \", nodos_por_visitar)\n",
        "\n",
        "    return camino"
      ],
      "metadata": {
        "id": "yXUEZz4bAm96"
      },
      "execution_count": 14,
      "outputs": []
    },
    {
      "cell_type": "markdown",
      "source": [
        "### Función pintar laberinto y camino encontrado\n"
      ],
      "metadata": {
        "id": "2rsL3dh9SDdN"
      }
    },
    {
      "cell_type": "code",
      "source": [
        "def pintar_laberinto_con_camino(laberinto, camino, salida, destino):\n",
        "    pintar_laberinto = laberinto.copy()\n",
        "    for x, y in camino:\n",
        "        if (x, y) != salida and (x, y) != destino:\n",
        "            pintar_laberinto[x, y] = 2 # por donde pasa pinta 2\n",
        "    plt.imshow(pintar_laberinto, cmap=\"gray_r\")\n",
        "    plt.xticks(range(laberinto.shape[1]))\n",
        "    plt.yticks(range(laberinto.shape[0]))\n",
        "    plt.grid(False)\n",
        "    plt.title(\"Camino encontrado por A*\")\n",
        "    plt.show()"
      ],
      "metadata": {
        "id": "4stQmT5zSV0G"
      },
      "execution_count": 17,
      "outputs": []
    },
    {
      "cell_type": "markdown",
      "source": [
        "### Resultado"
      ],
      "metadata": {
        "id": "bJs2gN2-UbXR"
      }
    },
    {
      "cell_type": "code",
      "source": [
        "camino = a_estrella(salida, destino, laberinto)\n",
        "\n",
        "if camino:\n",
        "    print(\"Camino encontrado:\", camino)\n",
        "    print(\"\")\n",
        "    pintar_laberinto_con_camino(laberinto,camino,salida,destino)\n",
        "else:\n",
        "    print(\"No se ha encontrado ningún camino\")"
      ],
      "metadata": {
        "colab": {
          "base_uri": "https://localhost:8080/",
          "height": 487
        },
        "id": "6LIVWB3fUeO6",
        "outputId": "94193b48-b1aa-4506-8eee-180f24c1563d"
      },
      "execution_count": 21,
      "outputs": [
        {
          "output_type": "stream",
          "name": "stdout",
          "text": [
            "Camino encontrado: [(0, 0), (0, 1), (0, 2), (0, 3), (0, 4), (0, 5), (1, 5), (2, 5), (3, 5), (4, 5), (4, 6), (4, 7), (4, 8), (4, 9), (5, 9), (6, 9), (7, 9), (8, 9), (9, 9)]\n",
            "\n"
          ]
        },
        {
          "output_type": "display_data",
          "data": {
            "text/plain": [
              "<Figure size 640x480 with 1 Axes>"
            ],
            "image/png": "[encoded data removed]"
          },
          "metadata": {}
        }
      ]
    }
  ]
}